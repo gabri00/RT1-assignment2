{
 "cells": [
  {
   "cell_type": "markdown",
   "id": "9e0192a0",
   "metadata": {},
   "source": [
    "# Research Track 1 - 2° assignment with jupyter integration"
   ]
  },
  {
   "cell_type": "code",
   "execution_count": null,
   "id": "7d9ce7e1",
   "metadata": {},
   "outputs": [],
   "source": [
    "import sys\n",
    "sys.path.append('/my_ros/src/RT_assignment_2')\n",
    "\n",
    "import jupyros as jr\n",
    "import rospy\n",
    "\n",
    "import ipywidgets as widgets\n",
    "from ipywidgets import Layout\n",
    "\n",
    "import matplotlib as mpl\n",
    "import matplotlib.pyplot as plt\n",
    "\n",
    "import math\n",
    "import time\n",
    "import select\n",
    "import actionlib\n",
    "import actionlib.msg\n",
    "from std_srvs.srv import *\n",
    "from nav_msgs.msg import Odometry\n",
    "from geometry_msgs.msg import Point, Pose, Twist\n",
    "from sensor_msgs.msg import LaserScan\n",
    "import RT_assignment_2.msg\n",
    "from RT_assignment_2.msg import Pos"
   ]
  },
  {
   "cell_type": "code",
   "execution_count": null,
   "id": "9627625d",
   "metadata": {},
   "outputs": [],
   "source": [
    "# Create widgets\n",
    "goal_wdgt = widgets.Text(placeholder='x,y', layout=Layout(width='15%'))\n",
    "goal_canc_btn = widgets.Button(description='Cancel goal', button_style='danger')\n",
    "nearest_obst_wdgt = widgets.FloatText(description='Nearest obstacle')\n",
    "robot_pos_wdgt = widgets.Text(description='Current position', layout=Layout(width='40%'))\n",
    "canc_goals_wdgt = widgets.IntText(description='Goals canceled', value=0, layout=Layout(width='15%'))\n",
    "set_goals_wdgt = widgets.IntText(description='Goals set', value=0, layout=Layout(width='15%'))"
   ]
  },
  {
   "cell_type": "code",
   "execution_count": null,
   "id": "90283bbd",
   "metadata": {},
   "outputs": [],
   "source": [
    "# Counters\n",
    "canc_goals = 0\n",
    "set_goals = 0\n",
    "\n",
    "# Initialize the node\n",
    "rospy.init_node('client')\n",
    "\n",
    "# Publisher for the position of the robot\n",
    "pub = rospy.Publisher('/pos', Pos, queue_size=1)\n",
    "\n",
    "# Initialize the action client\n",
    "client = actionlib.SimpleActionClient('/reaching_goal', RT_assignment_2.msg.PlanningAction)\n",
    "# Wait for the action server to start\n",
    "client.wait_for_server()"
   ]
  },
  {
   "cell_type": "code",
   "execution_count": null,
   "id": "71ed1cca",
   "metadata": {},
   "outputs": [],
   "source": [
    "def callback(data):\n",
    "    global robot_pos_wdgt\n",
    "    # Get position and linear velocity from odometry\n",
    "    position = data.pose.pose.position\n",
    "    linear_velocity = data.twist.twist.linear\n",
    "    # Create a message of type Pos\n",
    "    msg = Pos()\n",
    "    # Fill the message with the position and linear velocity\n",
    "    msg.x = position.x\n",
    "    msg.y = position.y\n",
    "    msg.vx = linear_velocity.x\n",
    "    msg.vy = linear_velocity.y\n",
    "    # Set current position value\n",
    "    robot_pos_wdgt.value = f'{msg.x},  {msg.y}'\n",
    "    # Publish the message\n",
    "    pub.publish(msg)"
   ]
  },
  {
   "cell_type": "code",
   "execution_count": null,
   "id": "27b91aab",
   "metadata": {},
   "outputs": [],
   "source": [
    "def get_nearest_obst(data):\n",
    "    global nearest_obst_wdgt\n",
    "    nearest_obst = min(data.ranges)\n",
    "    nearest_obst_wdgt.value = nearest_obst"
   ]
  },
  {
   "cell_type": "code",
   "execution_count": null,
   "id": "12797147",
   "metadata": {},
   "outputs": [],
   "source": [
    "def send_coords(wdgt):\n",
    "    global set_goals\n",
    "    global set_goals_wdgt\n",
    "    if wdgt.value:\n",
    "        set_goals += 1\n",
    "        set_goals_wdgt.value = set_goals\n",
    "        # Create a message of type PlanningGoal\n",
    "        goal = RT_assignment_2.msg.PlanningGoal()\n",
    "        # Fill the message with the goal coordinates\n",
    "        goal.target_pose.pose.position.x = float(wdgt.value.split(',')[0])\n",
    "        goal.target_pose.pose.position.y = float(wdgt.value.split(',')[1])\n",
    "        # Send the goal to the action server\n",
    "        client.send_goal(goal)"
   ]
  },
  {
   "cell_type": "code",
   "execution_count": null,
   "id": "9c28fb16",
   "metadata": {},
   "outputs": [],
   "source": [
    "def canc_goal(btn):\n",
    "    global canc_goals\n",
    "    global canc_goals_wdgt\n",
    "    canc_goals += 1\n",
    "    canc_goals_wdgt.value = canc_goals\n",
    "    client.cancel_goal()"
   ]
  },
  {
   "cell_type": "code",
   "execution_count": null,
   "id": "f618c265",
   "metadata": {},
   "outputs": [],
   "source": [
    "# Subscriber to the odometry of the robot to get the position and velocity\n",
    "odom = rospy.Subscriber('/odom', Odometry, callback)"
   ]
  },
  {
   "cell_type": "code",
   "execution_count": null,
   "id": "05e08b78",
   "metadata": {},
   "outputs": [],
   "source": [
    "# Get nearest obstacle\n",
    "obst_scan = rospy.Subscriber('/scan', LaserScan, get_nearest_obst)"
   ]
  },
  {
   "cell_type": "code",
   "execution_count": null,
   "id": "462707a9",
   "metadata": {},
   "outputs": [],
   "source": [
    "print(\"Insert the goal coordinates (x,y), then press ENTER:\")\n",
    "\n",
    "display(goal_wdgt, goal_canc_btn, nearest_obst_wdgt, robot_pos_wdgt, canc_goals_wdgt, set_goals_wdgt)\n",
    "\n",
    "goal_wdgt.on_submit(send_coords)\n",
    "goal_canc_btn.on_click(canc_goal)"
   ]
  },
  {
   "cell_type": "code",
   "execution_count": null,
   "id": "2fb607fd",
   "metadata": {},
   "outputs": [],
   "source": []
  }
 ],
 "metadata": {
  "kernelspec": {
   "display_name": "Python 3 (ipykernel)",
   "language": "python",
   "name": "python3"
  },
  "language_info": {
   "codemirror_mode": {
    "name": "ipython",
    "version": 3
   },
   "file_extension": ".py",
   "mimetype": "text/x-python",
   "name": "python",
   "nbconvert_exporter": "python",
   "pygments_lexer": "ipython3",
   "version": "3.8.5"
  }
 },
 "nbformat": 4,
 "nbformat_minor": 5
}
