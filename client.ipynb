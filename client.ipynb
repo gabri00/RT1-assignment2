{
 "cells": [
  {
   "cell_type": "markdown",
   "id": "9e0192a0",
   "metadata": {},
   "source": [
    "# Research Track 1 - 2° assignment with jupyter integration"
   ]
  },
  {
   "cell_type": "code",
   "execution_count": null,
   "id": "7d9ce7e1",
   "metadata": {},
   "outputs": [],
   "source": [
    "%matplotlib notebook\n",
    "import sys\n",
    "sys.path.append('/my_ros/src/RT_assignment_2')\n",
    "\n",
    "import jupyros as jr\n",
    "import rospy\n",
    "\n",
    "import ipywidgets as widgets\n",
    "from ipywidgets import Layout, HBox\n",
    "\n",
    "import matplotlib as mpl\n",
    "import matplotlib.pyplot as plt\n",
    "\n",
    "import numpy as np\n",
    "\n",
    "import math\n",
    "import time\n",
    "import select\n",
    "import actionlib\n",
    "import actionlib.msg\n",
    "from std_srvs.srv import *\n",
    "from nav_msgs.msg import Odometry\n",
    "from geometry_msgs.msg import Point, Pose, Twist\n",
    "from sensor_msgs.msg import LaserScan\n",
    "import RT_assignment_2.msg\n",
    "from RT_assignment_2.msg import Pos"
   ]
  },
  {
   "cell_type": "code",
   "execution_count": null,
   "id": "9627625d",
   "metadata": {},
   "outputs": [],
   "source": [
    "# Create widgets\n",
    "goal_wdgt = widgets.Text(placeholder='x,y', layout=Layout(width='15%'))\n",
    "goal_canc_btn = widgets.Button(description='Cancel goal', button_style='danger')\n",
    "\n",
    "nearest_obst_wdgt = widgets.FloatText(description='Nearest obstacle')\n",
    "robot_pos_wdgt = widgets.Text(description='Position', layout=Layout(width='40%'))\n",
    "\n",
    "canc_goals_wdgt = widgets.IntText(description='Canc', value=0, layout=Layout(width='15%'))\n",
    "set_goals_wdgt = widgets.IntText(description='Set', value=0, layout=Layout(width='15%'))"
   ]
  },
  {
   "cell_type": "code",
   "execution_count": null,
   "id": "70ee4412",
   "metadata": {},
   "outputs": [],
   "source": [
    "# Plots the positions of the robot\n",
    "def plot(x_data, y_data):\n",
    "    x_data_np = np.array(x_data)\n",
    "    y_data_np = np.array(y_data)\n",
    "    axs[0].plot(x_data_np, y_data_np, color='b')"
   ]
  },
  {
   "cell_type": "code",
   "execution_count": null,
   "id": "137ad70a",
   "metadata": {},
   "outputs": [],
   "source": [
    "# Plots the set/cancelled goals\n",
    "def plot_goals(set_data, canc_data):\n",
    "    axs[1].bar(['set', 'canc'], [set_data, canc_data], width=0.6, color=['g', 'r'])"
   ]
  },
  {
   "cell_type": "code",
   "execution_count": null,
   "id": "71ed1cca",
   "metadata": {},
   "outputs": [],
   "source": [
    "# Odometry callback: send the current position, updates widgets and path plot\n",
    "def callback(data):\n",
    "    global robot_pos_wdgt, x_data, y_data, frame_count\n",
    "    frame_count += 1\n",
    "    # Get position and linear velocity from odometry\n",
    "    position = data.pose.pose.position\n",
    "    linear_velocity = data.twist.twist.linear\n",
    "\n",
    "    # Create a message of type Pos with position and velocity of the robot\n",
    "    msg = Pos()\n",
    "    msg.x = position.x\n",
    "    msg.y = position.y\n",
    "    msg.vx = linear_velocity.x\n",
    "    msg.vy = linear_velocity.y\n",
    "\n",
    "    # Set current position value in widget\n",
    "    if frame_count >= 10:\n",
    "        robot_pos_wdgt.value = f'{msg.x:.6f},  {msg.y:.6f}'\n",
    "        frame_count = 0\n",
    "\n",
    "    # Update the position\n",
    "    x_data.append(msg.x)\n",
    "    y_data.append(msg.y)\n",
    "\n",
    "    # Publish the message\n",
    "    pub.publish(msg)\n",
    "\n",
    "    # Plot the new position\n",
    "    plot(x_data, y_data)"
   ]
  },
  {
   "cell_type": "code",
   "execution_count": null,
   "id": "27b91aab",
   "metadata": {},
   "outputs": [],
   "source": [
    "# Gets the distance between the robot and the closest wall\n",
    "def get_nearest_obst(data):\n",
    "    global nearest_obst_wdgt, frame_count_obst\n",
    "    nearest_obst = min(data.ranges)\n",
    "    frame_count_obst += 1\n",
    "\n",
    "    # Update widget\n",
    "    if frame_count_obst >= 10:\n",
    "        nearest_obst_wdgt.value = round(nearest_obst, 6)\n",
    "        frame_count_obst = 0"
   ]
  },
  {
   "cell_type": "code",
   "execution_count": null,
   "id": "12797147",
   "metadata": {},
   "outputs": [],
   "source": [
    "def send_coords(wdgt):\n",
    "    global set_goals, set_goals_wdgt, canc_goals, x_goal, y_goal\n",
    "    if wdgt.value:\n",
    "        set_goals += 1\n",
    "        set_goals_wdgt.value = set_goals\n",
    "        # Create a message of type PlanningGoal\n",
    "        goal = RT_assignment_2.msg.PlanningGoal()\n",
    "        # Fill the message with the goal coordinates\n",
    "        goal.target_pose.pose.position.x = float(wdgt.value.split(',')[0])\n",
    "        goal.target_pose.pose.position.y = float(wdgt.value.split(',')[1])\n",
    "        x_goal = goal.target_pose.pose.position.x\n",
    "        y_goal =  goal.target_pose.pose.position.y\n",
    "\n",
    "        # Plot the goal position\n",
    "        plot_goals(set_goals, canc_goals)\n",
    "        axs[0].scatter(x_goal, y_goal, marker='x', color='g')\n",
    "\n",
    "        # Send the goal to the action server\n",
    "        client.send_goal(goal)"
   ]
  },
  {
   "cell_type": "code",
   "execution_count": null,
   "id": "9c28fb16",
   "metadata": {},
   "outputs": [],
   "source": [
    "def canc_goal(btn):\n",
    "    global canc_goals, canc_goals_wdgt, set_goals, goal_wdgt, x_goal, y_goal\n",
    "    canc_goals += 1\n",
    "    canc_goals_wdgt.value = canc_goals\n",
    "\n",
    "    # If the goal has been cancelled, change the goal's color to red\n",
    "    plot_goals(set_goals, canc_goals)\n",
    "    axs[0].scatter(x_goal, y_goal, marker='x', color='r')\n",
    "\n",
    "    client.cancel_goal()"
   ]
  },
  {
   "cell_type": "code",
   "execution_count": null,
   "id": "0a18f5f4",
   "metadata": {
    "scrolled": true
   },
   "outputs": [],
   "source": [
    "# Counters for the set and cancelled goals\n",
    "canc_goals = 0\n",
    "set_goals = 0\n",
    "\n",
    "# Counters to reduce the rate with which data are displayed in the widgets\n",
    "frame_count = 0\n",
    "frame_count_obst = 0\n",
    "\n",
    "# Arrays to store the robot positions\n",
    "x_data, y_data = [], []\n",
    "\n",
    "# Current goal coordinates\n",
    "x_goal, y_goal = 0, 0\n",
    "\n",
    "# Initialize the node\n",
    "rospy.init_node('client')\n",
    "\n",
    "# Publisher for the position of the robot\n",
    "pub = rospy.Publisher('/pos', Pos, queue_size=1)\n",
    "\n",
    "# Initialize the action client\n",
    "client = actionlib.SimpleActionClient('/reaching_goal', RT_assignment_2.msg.PlanningAction)\n",
    "# Wait for the action server to start\n",
    "client.wait_for_server()"
   ]
  },
  {
   "cell_type": "code",
   "execution_count": null,
   "id": "462707a9",
   "metadata": {},
   "outputs": [],
   "source": [
    "# Display widgets\n",
    "print(\"Insert the goal coordinates (x,y), then press ENTER:\")\n",
    "\n",
    "goal_box = HBox([goal_wdgt, goal_canc_btn])\n",
    "display(goal_box, nearest_obst_wdgt, robot_pos_wdgt, set_goals_wdgt, canc_goals_wdgt)\n",
    "\n",
    "goal_wdgt.on_submit(send_coords)\n",
    "goal_canc_btn.on_click(canc_goal)"
   ]
  },
  {
   "cell_type": "code",
   "execution_count": null,
   "id": "4dc32db1",
   "metadata": {},
   "outputs": [],
   "source": [
    "# Set the plots\n",
    "fig, axs = plt.subplots(2, 1, figsize=(8, 8))\n",
    "\n",
    "# Robot path plot settings\n",
    "axs[0].set_xlim(-10, 10)\n",
    "axs[0].set_ylim(-10, 10)\n",
    "axs[0].set_title('Robot path')\n",
    "axs[0].set_xlabel(\"x\")\n",
    "axs[0].set_ylabel(\"y\")\n",
    "\n",
    "# Goals plot settings\n",
    "axs[1].grid(axis='y', linestyle='--', alpha=0.6)\n",
    "axs[1].set_yticks(range(0, 11, 1))\n",
    "axs[1].set_title('Goals statistics')\n",
    "axs[1].set_xlabel('goals')\n",
    "axs[1].set_ylabel('count')\n",
    "\n",
    "# Draw plots\n",
    "x_data_np = np.array(x_data)\n",
    "y_data_np = np.array(y_data)\n",
    "axs[0].plot(x_data_np, y_data_np)\n",
    "\n",
    "axs[1].bar(['set', 'canc'], [set_goals, canc_goals], width=0.5, color=['g', 'r'])\n",
    "\n",
    "# Adjust the layout of the subplots\n",
    "plt.tight_layout()"
   ]
  },
  {
   "cell_type": "code",
   "execution_count": null,
   "id": "f618c265",
   "metadata": {},
   "outputs": [],
   "source": [
    "# Subscriber to the odometry of the robot to get the position and velocity\n",
    "odom = rospy.Subscriber('/odom', Odometry, callback)"
   ]
  },
  {
   "cell_type": "code",
   "execution_count": null,
   "id": "05e08b78",
   "metadata": {},
   "outputs": [],
   "source": [
    "# Get nearest obstacle\n",
    "obst_scan = rospy.Subscriber('/scan', LaserScan, get_nearest_obst)"
   ]
  }
 ],
 "metadata": {
  "kernelspec": {
   "display_name": "Python 3 (ipykernel)",
   "language": "python",
   "name": "python3"
  },
  "language_info": {
   "codemirror_mode": {
    "name": "ipython",
    "version": 3
   },
   "file_extension": ".py",
   "mimetype": "text/x-python",
   "name": "python",
   "nbconvert_exporter": "python",
   "pygments_lexer": "ipython3",
   "version": "3.8.5"
  }
 },
 "nbformat": 4,
 "nbformat_minor": 5
}
